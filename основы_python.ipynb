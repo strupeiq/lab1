{
  "cells": [
    {
      "cell_type": "markdown",
      "metadata": {
        "id": "M-DGa20PaHnu"
      },
      "source": [
        "#Задача 1\n",
        "Написать функцию на вход которой подается строка, состоящая из латинских букв.\n",
        "Функция должна вернуть количество гласных букв (a, e, i, o, u) в этой строке. Написать тесты для кода"
      ]
    },
    {
      "cell_type": "code",
      "execution_count": null,
      "metadata": {
        "id": "XvX8X_JJ6PCb"
      },
      "outputs": [],
      "source": [
        "# Your code goes here\n",
        "def count_vowels(text: str) -> int:\n",
        "    chars = 'aeiouAEIOU'\n",
        "    count = 0\n",
        "    for char in text:\n",
        "        if char in chars:\n",
        "            count += 1\n",
        "    return count\n",
        "\n",
        "\n",
        "def test_count_vowels():\n",
        "    assert 4 == count_vowels('23aikool')\n",
        "    assert 3 == count_vowels('AA kU')\n",
        "    assert 3 == count_vowels('AkuIl')\n",
        "    assert 0 == count_vowels('123fgl')\n",
        "    assert 0 == count_vowels('')\n",
        "\n",
        "test_count_vowels()\n"
      ]
    },
    {
      "cell_type": "markdown",
      "metadata": {
        "id": "t2ClV_Y0bbr6"
      },
      "source": [
        "# Задача 2\n",
        "Написать функцию на вход, которой подается строка. Функция должна вернуть true, если\n",
        "каждый символ в строке встречается только 1 раз, иначе должна вернуть false. Написать тесты для кода"
      ]
    },
    {
      "cell_type": "code",
      "execution_count": null,
      "metadata": {
        "id": "FppbECao6VIz"
      },
      "outputs": [],
      "source": [
        "# Your code goes here\n",
        "def check_unique_chars(text: str) -> bool:\n",
        "    return len(set(text)) == len(text)\n",
        "\n",
        "\n",
        "def test_check_unique_chars():\n",
        "    assert True == check_unique_chars('1234')\n",
        "    assert True == check_unique_chars('f')\n",
        "    assert True == check_unique_chars('')\n",
        "    assert False == check_unique_chars('ff567')\n",
        "    assert False == check_unique_chars('12 34 56')\n",
        "\n",
        "\n",
        "test_check_unique_chars()\n"
      ]
    },
    {
      "cell_type": "markdown",
      "metadata": {
        "id": "udRiIK1cdt6E"
      },
      "source": [
        "# Задача 3\n",
        "Написать функцию, которая принимает положительное число и возвращает количество\n",
        "бит равных 1 в этом числе. Написать тесты для кода"
      ]
    },
    {
      "cell_type": "code",
      "execution_count": null,
      "metadata": {
        "id": "6tkfDJRz6dp_"
      },
      "outputs": [],
      "source": [
        "# Your code goes here\n",
        "def count_bit(number: int) -> int:\n",
        "    return int(str(bin(number)).count('1'))\n",
        "\n",
        "\n",
        "def test_count_bit():\n",
        "    assert 3 == count_bit(13)\n",
        "    assert 13 == count_bit(10**9)\n",
        "    assert 0 == count_bit(0)\n",
        "\n",
        "\n",
        "test_count_bit()\n",
        "    "
      ]
    },
    {
      "cell_type": "markdown",
      "metadata": {
        "id": "26dDUz-Ae17N"
      },
      "source": [
        "# Задача 4\n",
        "Написать функцию, которая принимает положительное число. Функция должна вернуть то,\n",
        "сколько раз необходимо перемножать цифры числа или результат перемножения, чтобы\n",
        "получилось число состоящее из одной цифры.\n",
        "Например, для входного числа:\n",
        "· 39 функция должна вернуть 3, так как 3*9=27 => 2*7=14 => 1*4=4\n",
        "· 4 функция должна вернуть 0, так как число уже состоит из одной цифры\n",
        "· 999 функция должна вернуть 4, так как 9*9*9=729 => 7*2*9=126 => 1*2*6=12 =>\n",
        "1*2=2. Написать тесты для кода"
      ]
    },
    {
      "cell_type": "code",
      "execution_count": null,
      "metadata": {
        "id": "BH1A_Mgi6i4G"
      },
      "outputs": [],
      "source": [
        "import math\n",
        "\n",
        "\n",
        "def magic(n: int) -> int:\n",
        "    # Your code goes here\n",
        "    count = 0\n",
        "    while len(str(n)) != 1:\n",
        "        count += 1\n",
        "        n = math.prod(list(map(int, str(n))))\n",
        "    return count\n",
        "\n",
        "\n",
        "def test_magic():\n",
        "    assert 3 == magic(39)\n",
        "    assert 0 == magic(4)\n",
        "    assert 4 == magic(999)\n",
        "\n",
        "\n",
        "test_magic()\n"
      ]
    },
    {
      "cell_type": "markdown",
      "metadata": {
        "id": "0nS-kIa8g8vd"
      },
      "source": [
        "# Задача 5\n",
        "Написать функцию, которая принимает два целочисленных вектора одинаковой длины и\n",
        "возвращает среднеквадратическое отклонение двух векторов. Написать тесты для кода"
      ]
    },
    {
      "cell_type": "code",
      "execution_count": 14,
      "metadata": {
        "id": "8iphx4LM6xbx"
      },
      "outputs": [],
      "source": [
        "import math\n",
        "\n",
        "\n",
        "def mse(pred: list[int], true: list[int]) -> float:\n",
        "    # Your code goes here\n",
        "    if len(pred) != len(true):\n",
        "        return 'Длины векторов должны совпадать.'\n",
        "    sum_square = sum([(pred[i] - true[i]) ** 2 for i in range(len(pred))])\n",
        "    return (sum_square / len(pred)) ** 0.5\n",
        "\n",
        "\n",
        "def test_mse():\n",
        "\n",
        "    assert math.isclose(0.0, mse([1, 2, 3], [1, 2, 3]), rel_tol=1e-9)\n",
        "    assert math.isclose(4.203173404306164, mse([-1, 2, -3], [1, 2, 4]), rel_tol=1e-9)\n",
        "    assert 'Длины векторов должны совпадать.' == mse([1, 2], [3, 4, 5])\n",
        "\n",
        "\n",
        "test_mse()\n"
      ]
    },
    {
      "cell_type": "markdown",
      "metadata": {
        "id": "vpIPKL439zkw"
      },
      "source": [
        "# Задача 6\n",
        "Написать функцию, принимающая целое положительное число. Функция должна вернуть\n",
        "строку вида “(n1**p1)(n2**p2)…(nk**pk)” представляющая разложение числа на простые\n",
        "множители (если pi == 1, то выводить только ni).\n",
        "Например, для числа 86240 функция должна вернуть “(2**5)(5)(7**2)(11)”. Написать тесты для кода"
      ]
    },
    {
      "cell_type": "code",
      "execution_count": 20,
      "metadata": {
        "id": "pFebmcZk94Jw"
      },
      "outputs": [],
      "source": [
        "# Your code goes here\n",
        "def is_prime(number: int) -> bool:\n",
        "    for i in range(2, int(number ** 0.5) + 1):\n",
        "        if number % i == 0:\n",
        "            return False\n",
        "    return True\n",
        "    \n",
        "\n",
        "def prime_multipliers(number: int) -> str:\n",
        "    if is_prime(number):\n",
        "        return f'({number})'\n",
        "    determ = 2\n",
        "    powers = {}\n",
        "    result = ''\n",
        "    while determ * determ <= number:\n",
        "        pow = 0\n",
        "        while number % determ == 0:\n",
        "            number //= determ\n",
        "            pow += 1\n",
        "        if pow > 0:\n",
        "            powers[determ] = pow\n",
        "        determ += 1\n",
        "    if number > 1:\n",
        "        powers[number] = 1\n",
        "    for mult, pow in powers.items():\n",
        "        if pow == 1:\n",
        "            result += f'({mult})'\n",
        "        else:\n",
        "            result += f'({mult}{pow})'\n",
        "    return result\n",
        "\n",
        "\n",
        "def test_prime_multipliers():\n",
        "    assert '(25)(5)(72)(11)' == prime_multipliers(86240)\n",
        "    assert '(23)(53)' == prime_multipliers(1000)\n",
        "    assert '(17)' == prime_multipliers(17)\n",
        "\n",
        "\n",
        "test_prime_multipliers()\n",
        "\n",
        "        "
      ]
    },
    {
      "cell_type": "markdown",
      "metadata": {
        "id": "ps2s0BudX7A2"
      },
      "source": [
        "# Задача 7\n",
        "Написать функцию, принимающая целое число n, задающее количество кубиков. Функция\n",
        "должна определить, можно ли из данного кол-ва кубиков построить пирамиду, то есть\n",
        "можно ли представить число n как 1^2+2^2+3^2+…+k^2. Если можно, то функция должна\n",
        "вернуть k, иначе строку “It is impossible”. Написать тесты для кода"
      ]
    },
    {
      "cell_type": "code",
      "execution_count": 8,
      "metadata": {
        "id": "3YPjEXxhX_YT"
      },
      "outputs": [],
      "source": [
        "def pyramid(number: int) -> int:\n",
        "    # Your code goes here\n",
        "    if number <= 0:\n",
        "        return 'It is impossible' \n",
        "    k = 1\n",
        "    current_summ = 0\n",
        "    while current_summ < number:\n",
        "        current_summ += k ** 2\n",
        "        k += 1\n",
        "    if current_summ == number:\n",
        "        return k - 1\n",
        "    return 'It is impossible'\n",
        "\n",
        "\n",
        "def test_pyramid():\n",
        "    assert 3 == pyramid(14)\n",
        "    assert 8 == pyramid(204)\n",
        "    assert 'It is impossible' == pyramid(0)\n",
        "    assert 'It is impossible' == pyramid(-20)\n",
        "    assert 'It is impossible' == pyramid(100)\n",
        "\n",
        "\n",
        "test_pyramid()\n"
      ]
    },
    {
      "cell_type": "markdown",
      "metadata": {
        "id": "KeKgmIdAQMEJ"
      },
      "source": [
        "# Задача 8\n",
        "Функция принимает на вход положительное число и определяет является ли оно сбалансированным, т.е. сумма цифр до средних равна сумме цифр после. Средними в случае нечетного числа цифр считать одну цифру, в случае четного - две средних. Написать тесты для кода"
      ]
    },
    {
      "cell_type": "code",
      "execution_count": null,
      "metadata": {
        "id": "gMAAqtqlQrZt"
      },
      "outputs": [],
      "source": [
        "# Your code goes here\n",
        "def check_balance(number: int) -> bool:\n",
        "    if len(str(number)) == 1 or len(str(number)) == 2:\n",
        "        return 'Слишком короткое число.'\n",
        "    first_half_sum = sum(list(map(int, str(number)[:len(str(number)) // 2 \n",
        "                                                   if len(str(number)) % 2 != 0 \n",
        "                                                   else len(str(number)) // 2 - 1])))\n",
        "    second_half_sum = sum(list(map(int, str(number)[len(str(number)) // 2 + 1:])))\n",
        "    return first_half_sum == second_half_sum\n",
        "\n",
        "\n",
        "def test_check_balance():\n",
        "    assert True == check_balance(125621)\n",
        "    assert True == check_balance(12321)\n",
        "    assert False == check_balance(1234)\n",
        "    assert False == check_balance(12345)\n",
        "    assert 'Слишком короткое число.' == check_balance(12)\n",
        "    assert 'Слишком короткое число.' == check_balance(0)\n",
        "    \n",
        "\n",
        "test_check_balance()\n"
      ]
    }
  ],
  "metadata": {
    "colab": {
      "provenance": []
    },
    "kernelspec": {
      "display_name": "Python 3",
      "name": "python3"
    },
    "language_info": {
      "codemirror_mode": {
        "name": "ipython",
        "version": 3
      },
      "file_extension": ".py",
      "mimetype": "text/x-python",
      "name": "python",
      "nbconvert_exporter": "python",
      "pygments_lexer": "ipython3",
      "version": "3.10.0"
    }
  },
  "nbformat": 4,
  "nbformat_minor": 0
}
